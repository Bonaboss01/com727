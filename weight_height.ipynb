{
 "cells": [
  {
   "cell_type": "code",
   "execution_count": 40,
   "metadata": {
    "collapsed": true
   },
   "outputs": [],
   "source": [
    "# import pandas as pd\n",
    "# weight_height = pd.read_csv('weight-height.csv')\n",
    "# import matplotlib.pyplot as plt\n",
    "# plt.scatter(weight_height['Height'], weight_height['Weight'])\n",
    "# plt.show()"
   ]
  },
  {
   "cell_type": "code",
   "execution_count": 41,
   "outputs": [],
   "source": [
    "train = weight_height[0 : int(weight_height.shape[0]*(70/100)) ]\n",
    "test = weight_height [int(weight_height.shape[0]*(70/100)) : ]\n",
    "\n",
    "from sklearn.preprocessing import MinMaxScaler\n",
    "from sklearn.linear_model import LinearRegression\n",
    "from sklearn.metrics import mean_squared_error\n",
    "import numpy as np\n",
    "lr = LinearRegression()\n",
    "lr.fit(train[['Height']], train['Weight'])\n",
    "test_predictions = lr.predict(test[['Height']])\n",
    "test_mse = mean_squared_error(test_predictions, test['Weight'])\n",
    "test_rmse = np.sqrt(test_mse)\n",
    "\n",
    "\n"
   ],
   "metadata": {
    "collapsed": false,
    "pycharm": {
     "name": "#%%\n"
    }
   }
  },
  {
   "cell_type": "code",
   "execution_count": 42,
   "outputs": [],
   "source": [
    "sc = MinMaxScaler()\n",
    "#\n",
    "x = sc.fit_transform(train['Height'].values.reshape(-1,1))\n",
    "y = sc.fit_transform(train['Weight'].values.reshape(-1,1))\n",
    "\n",
    "lr.fit(x,y)\n",
    "test_prediction = lr.predict(x)\n",
    "test_mse = mean_squared_error(test_prediction, y)\n",
    "test_rmse = np.sqrt(test_mse)"
   ],
   "metadata": {
    "collapsed": false,
    "pycharm": {
     "name": "#%%\n"
    }
   }
  }
 ],
 "metadata": {
  "kernelspec": {
   "display_name": "Python 3",
   "language": "python",
   "name": "python3"
  },
  "language_info": {
   "codemirror_mode": {
    "name": "ipython",
    "version": 2
   },
   "file_extension": ".py",
   "mimetype": "text/x-python",
   "name": "python",
   "nbconvert_exporter": "python",
   "pygments_lexer": "ipython2",
   "version": "2.7.6"
  }
 },
 "nbformat": 4,
 "nbformat_minor": 0
}