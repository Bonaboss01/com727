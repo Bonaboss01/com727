{
 "cells": [
  {
   "cell_type": "code",
   "execution_count": 1,
   "metadata": {},
   "outputs": [],
   "source": [
    "import pandas as pd\n",
    "house = pd.read_csv('C://Users//MY PC//desktop//DATASETS//ml_house_data_set.csv')"
   ]
  },
  {
   "cell_type": "code",
   "execution_count": 2,
   "metadata": {},
   "outputs": [
    {
     "data": {
      "text/html": [
       "<div>\n",
       "<style scoped>\n",
       "    .dataframe tbody tr th:only-of-type {\n",
       "        vertical-align: middle;\n",
       "    }\n",
       "\n",
       "    .dataframe tbody tr th {\n",
       "        vertical-align: top;\n",
       "    }\n",
       "\n",
       "    .dataframe thead th {\n",
       "        text-align: right;\n",
       "    }\n",
       "</style>\n",
       "<table border=\"1\" class=\"dataframe\">\n",
       "  <thead>\n",
       "    <tr style=\"text-align: right;\">\n",
       "      <th></th>\n",
       "      <th>year_built</th>\n",
       "      <th>stories</th>\n",
       "      <th>num_bedrooms</th>\n",
       "      <th>full_bathrooms</th>\n",
       "      <th>half_bathrooms</th>\n",
       "      <th>livable_sqft</th>\n",
       "      <th>total_sqft</th>\n",
       "      <th>garage_type</th>\n",
       "      <th>garage_sqft</th>\n",
       "      <th>carport_sqft</th>\n",
       "      <th>has_fireplace</th>\n",
       "      <th>has_pool</th>\n",
       "      <th>has_central_heating</th>\n",
       "      <th>has_central_cooling</th>\n",
       "      <th>house_number</th>\n",
       "      <th>street_name</th>\n",
       "      <th>unit_number</th>\n",
       "      <th>city</th>\n",
       "      <th>zip_code</th>\n",
       "      <th>sale_price</th>\n",
       "    </tr>\n",
       "  </thead>\n",
       "  <tbody>\n",
       "    <tr>\n",
       "      <th>0</th>\n",
       "      <td>1978</td>\n",
       "      <td>1</td>\n",
       "      <td>4</td>\n",
       "      <td>1</td>\n",
       "      <td>1</td>\n",
       "      <td>1689</td>\n",
       "      <td>1859</td>\n",
       "      <td>attached</td>\n",
       "      <td>508</td>\n",
       "      <td>0</td>\n",
       "      <td>True</td>\n",
       "      <td>False</td>\n",
       "      <td>True</td>\n",
       "      <td>True</td>\n",
       "      <td>42670</td>\n",
       "      <td>Lopez Crossing</td>\n",
       "      <td>NaN</td>\n",
       "      <td>Hallfort</td>\n",
       "      <td>10907</td>\n",
       "      <td>270897.0</td>\n",
       "    </tr>\n",
       "    <tr>\n",
       "      <th>1</th>\n",
       "      <td>1958</td>\n",
       "      <td>1</td>\n",
       "      <td>3</td>\n",
       "      <td>1</td>\n",
       "      <td>1</td>\n",
       "      <td>1984</td>\n",
       "      <td>2002</td>\n",
       "      <td>attached</td>\n",
       "      <td>462</td>\n",
       "      <td>0</td>\n",
       "      <td>True</td>\n",
       "      <td>False</td>\n",
       "      <td>True</td>\n",
       "      <td>True</td>\n",
       "      <td>5194</td>\n",
       "      <td>Gardner Park</td>\n",
       "      <td>NaN</td>\n",
       "      <td>Hallfort</td>\n",
       "      <td>10907</td>\n",
       "      <td>302404.0</td>\n",
       "    </tr>\n",
       "    <tr>\n",
       "      <th>2</th>\n",
       "      <td>2002</td>\n",
       "      <td>1</td>\n",
       "      <td>3</td>\n",
       "      <td>2</td>\n",
       "      <td>0</td>\n",
       "      <td>1581</td>\n",
       "      <td>1578</td>\n",
       "      <td>none</td>\n",
       "      <td>0</td>\n",
       "      <td>625</td>\n",
       "      <td>False</td>\n",
       "      <td>False</td>\n",
       "      <td>True</td>\n",
       "      <td>True</td>\n",
       "      <td>4366</td>\n",
       "      <td>Harding Islands</td>\n",
       "      <td>NaN</td>\n",
       "      <td>Lake Christinaport</td>\n",
       "      <td>11203</td>\n",
       "      <td>2519996.0</td>\n",
       "    </tr>\n",
       "    <tr>\n",
       "      <th>3</th>\n",
       "      <td>2004</td>\n",
       "      <td>1</td>\n",
       "      <td>4</td>\n",
       "      <td>2</td>\n",
       "      <td>0</td>\n",
       "      <td>1829</td>\n",
       "      <td>2277</td>\n",
       "      <td>attached</td>\n",
       "      <td>479</td>\n",
       "      <td>0</td>\n",
       "      <td>True</td>\n",
       "      <td>False</td>\n",
       "      <td>True</td>\n",
       "      <td>True</td>\n",
       "      <td>3302</td>\n",
       "      <td>Michelle Highway</td>\n",
       "      <td>NaN</td>\n",
       "      <td>Lake Christinaport</td>\n",
       "      <td>11203</td>\n",
       "      <td>197193.0</td>\n",
       "    </tr>\n",
       "    <tr>\n",
       "      <th>4</th>\n",
       "      <td>2006</td>\n",
       "      <td>1</td>\n",
       "      <td>4</td>\n",
       "      <td>2</td>\n",
       "      <td>0</td>\n",
       "      <td>1580</td>\n",
       "      <td>1749</td>\n",
       "      <td>attached</td>\n",
       "      <td>430</td>\n",
       "      <td>0</td>\n",
       "      <td>True</td>\n",
       "      <td>False</td>\n",
       "      <td>True</td>\n",
       "      <td>True</td>\n",
       "      <td>582</td>\n",
       "      <td>Jacob Cape</td>\n",
       "      <td>NaN</td>\n",
       "      <td>Lake Christinaport</td>\n",
       "      <td>11203</td>\n",
       "      <td>207897.0</td>\n",
       "    </tr>\n",
       "  </tbody>\n",
       "</table>\n",
       "</div>"
      ],
      "text/plain": [
       "   year_built  stories  num_bedrooms  full_bathrooms  half_bathrooms  \\\n",
       "0        1978        1             4               1               1   \n",
       "1        1958        1             3               1               1   \n",
       "2        2002        1             3               2               0   \n",
       "3        2004        1             4               2               0   \n",
       "4        2006        1             4               2               0   \n",
       "\n",
       "   livable_sqft  total_sqft garage_type  garage_sqft  carport_sqft  \\\n",
       "0          1689        1859    attached          508             0   \n",
       "1          1984        2002    attached          462             0   \n",
       "2          1581        1578        none            0           625   \n",
       "3          1829        2277    attached          479             0   \n",
       "4          1580        1749    attached          430             0   \n",
       "\n",
       "   has_fireplace  has_pool  has_central_heating  has_central_cooling  \\\n",
       "0           True     False                 True                 True   \n",
       "1           True     False                 True                 True   \n",
       "2          False     False                 True                 True   \n",
       "3           True     False                 True                 True   \n",
       "4           True     False                 True                 True   \n",
       "\n",
       "   house_number       street_name  unit_number                city  zip_code  \\\n",
       "0         42670    Lopez Crossing          NaN            Hallfort     10907   \n",
       "1          5194      Gardner Park          NaN            Hallfort     10907   \n",
       "2          4366   Harding Islands          NaN  Lake Christinaport     11203   \n",
       "3          3302  Michelle Highway          NaN  Lake Christinaport     11203   \n",
       "4           582        Jacob Cape          NaN  Lake Christinaport     11203   \n",
       "\n",
       "   sale_price  \n",
       "0    270897.0  \n",
       "1    302404.0  \n",
       "2   2519996.0  \n",
       "3    197193.0  \n",
       "4    207897.0  "
      ]
     },
     "execution_count": 2,
     "metadata": {},
     "output_type": "execute_result"
    }
   ],
   "source": [
    "house.head()"
   ]
  },
  {
   "cell_type": "code",
   "execution_count": 3,
   "metadata": {},
   "outputs": [
    {
     "name": "stdout",
     "output_type": "stream",
     "text": [
      "<class 'pandas.core.frame.DataFrame'>\n",
      "RangeIndex: 42703 entries, 0 to 42702\n",
      "Data columns (total 20 columns):\n",
      " #   Column               Non-Null Count  Dtype  \n",
      "---  ------               --------------  -----  \n",
      " 0   year_built           42703 non-null  int64  \n",
      " 1   stories              42703 non-null  int64  \n",
      " 2   num_bedrooms         42703 non-null  int64  \n",
      " 3   full_bathrooms       42703 non-null  int64  \n",
      " 4   half_bathrooms       42703 non-null  int64  \n",
      " 5   livable_sqft         42703 non-null  int64  \n",
      " 6   total_sqft           42703 non-null  int64  \n",
      " 7   garage_type          42703 non-null  object \n",
      " 8   garage_sqft          42703 non-null  int64  \n",
      " 9   carport_sqft         42703 non-null  int64  \n",
      " 10  has_fireplace        42703 non-null  bool   \n",
      " 11  has_pool             42703 non-null  bool   \n",
      " 12  has_central_heating  42703 non-null  bool   \n",
      " 13  has_central_cooling  42703 non-null  bool   \n",
      " 14  house_number         42703 non-null  int64  \n",
      " 15  street_name          42703 non-null  object \n",
      " 16  unit_number          3088 non-null   float64\n",
      " 17  city                 42703 non-null  object \n",
      " 18  zip_code             42703 non-null  int64  \n",
      " 19  sale_price           42703 non-null  float64\n",
      "dtypes: bool(4), float64(2), int64(11), object(3)\n",
      "memory usage: 5.4+ MB\n"
     ]
    }
   ],
   "source": [
    "house.info()"
   ]
  },
  {
   "cell_type": "code",
   "execution_count": 4,
   "metadata": {},
   "outputs": [
    {
     "data": {
      "text/plain": [
       "0           NaN\n",
       "1           NaN\n",
       "2           NaN\n",
       "3           NaN\n",
       "4           NaN\n",
       "          ...  \n",
       "42698     253.0\n",
       "42699    3560.0\n",
       "42700    3931.0\n",
       "42701       NaN\n",
       "42702       NaN\n",
       "Name: unit_number, Length: 42703, dtype: float64"
      ]
     },
     "execution_count": 4,
     "metadata": {},
     "output_type": "execute_result"
    }
   ],
   "source": [
    "house['unit_number']"
   ]
  },
  {
   "cell_type": "code",
   "execution_count": 5,
   "metadata": {},
   "outputs": [
    {
     "name": "stdout",
     "output_type": "stream",
     "text": [
      "<class 'pandas.core.frame.DataFrame'>\n",
      "RangeIndex: 42703 entries, 0 to 42702\n",
      "Data columns (total 20 columns):\n",
      " #   Column               Non-Null Count  Dtype  \n",
      "---  ------               --------------  -----  \n",
      " 0   year_built           42703 non-null  int64  \n",
      " 1   stories              42703 non-null  int64  \n",
      " 2   num_bedrooms         42703 non-null  int64  \n",
      " 3   full_bathrooms       42703 non-null  int64  \n",
      " 4   half_bathrooms       42703 non-null  int64  \n",
      " 5   livable_sqft         42703 non-null  int64  \n",
      " 6   total_sqft           42703 non-null  int64  \n",
      " 7   garage_type          42703 non-null  object \n",
      " 8   garage_sqft          42703 non-null  int64  \n",
      " 9   carport_sqft         42703 non-null  int64  \n",
      " 10  has_fireplace        42703 non-null  bool   \n",
      " 11  has_pool             42703 non-null  bool   \n",
      " 12  has_central_heating  42703 non-null  bool   \n",
      " 13  has_central_cooling  42703 non-null  bool   \n",
      " 14  house_number         42703 non-null  int64  \n",
      " 15  street_name          42703 non-null  object \n",
      " 16  unit_number          3088 non-null   float64\n",
      " 17  city                 42703 non-null  object \n",
      " 18  zip_code             42703 non-null  int64  \n",
      " 19  sale_price           42703 non-null  float64\n",
      "dtypes: bool(4), float64(2), int64(11), object(3)\n",
      "memory usage: 5.4+ MB\n"
     ]
    }
   ],
   "source": [
    "house.info()"
   ]
  },
  {
   "cell_type": "code",
   "execution_count": 6,
   "metadata": {},
   "outputs": [
    {
     "data": {
      "text/plain": [
       "Index(['year_built', 'stories', 'num_bedrooms', 'full_bathrooms',\n",
       "       'half_bathrooms', 'livable_sqft', 'total_sqft', 'garage_type',\n",
       "       'garage_sqft', 'carport_sqft', 'has_fireplace', 'has_pool',\n",
       "       'has_central_heating', 'has_central_cooling', 'house_number',\n",
       "       'street_name', 'unit_number', 'city', 'zip_code', 'sale_price'],\n",
       "      dtype='object')"
      ]
     },
     "execution_count": 6,
     "metadata": {},
     "output_type": "execute_result"
    }
   ],
   "source": [
    "house.columns"
   ]
  },
  {
   "cell_type": "code",
   "execution_count": 7,
   "metadata": {
    "scrolled": true
   },
   "outputs": [],
   "source": [
    "cols = ['zip_code','city','unit_number','street_name','house_number']\n",
    "house = house.drop(cols, axis=1)"
   ]
  },
  {
   "cell_type": "code",
   "execution_count": 8,
   "metadata": {},
   "outputs": [
    {
     "data": {
      "text/plain": [
       "Index(['year_built', 'stories', 'num_bedrooms', 'full_bathrooms',\n",
       "       'half_bathrooms', 'livable_sqft', 'total_sqft', 'garage_type',\n",
       "       'garage_sqft', 'carport_sqft', 'has_fireplace', 'has_pool',\n",
       "       'has_central_heating', 'has_central_cooling', 'sale_price'],\n",
       "      dtype='object')"
      ]
     },
     "execution_count": 8,
     "metadata": {},
     "output_type": "execute_result"
    }
   ],
   "source": [
    "house.columns"
   ]
  },
  {
   "cell_type": "code",
   "execution_count": 9,
   "metadata": {},
   "outputs": [
    {
     "name": "stdout",
     "output_type": "stream",
     "text": [
      "<class 'pandas.core.frame.DataFrame'>\n",
      "RangeIndex: 42703 entries, 0 to 42702\n",
      "Data columns (total 15 columns):\n",
      " #   Column               Non-Null Count  Dtype  \n",
      "---  ------               --------------  -----  \n",
      " 0   year_built           42703 non-null  int64  \n",
      " 1   stories              42703 non-null  int64  \n",
      " 2   num_bedrooms         42703 non-null  int64  \n",
      " 3   full_bathrooms       42703 non-null  int64  \n",
      " 4   half_bathrooms       42703 non-null  int64  \n",
      " 5   livable_sqft         42703 non-null  int64  \n",
      " 6   total_sqft           42703 non-null  int64  \n",
      " 7   garage_type          42703 non-null  object \n",
      " 8   garage_sqft          42703 non-null  int64  \n",
      " 9   carport_sqft         42703 non-null  int64  \n",
      " 10  has_fireplace        42703 non-null  bool   \n",
      " 11  has_pool             42703 non-null  bool   \n",
      " 12  has_central_heating  42703 non-null  bool   \n",
      " 13  has_central_cooling  42703 non-null  bool   \n",
      " 14  sale_price           42703 non-null  float64\n",
      "dtypes: bool(4), float64(1), int64(9), object(1)\n",
      "memory usage: 3.7+ MB\n"
     ]
    }
   ],
   "source": [
    "house.info()"
   ]
  },
  {
   "cell_type": "code",
   "execution_count": 10,
   "metadata": {},
   "outputs": [
    {
     "data": {
      "text/plain": [
       "array(['attached', 'none', 'detached'], dtype=object)"
      ]
     },
     "execution_count": 10,
     "metadata": {},
     "output_type": "execute_result"
    }
   ],
   "source": [
    "house['garage_type'].unique()"
   ]
  },
  {
   "cell_type": "code",
   "execution_count": 11,
   "metadata": {},
   "outputs": [],
   "source": [
    "garage_dummies = pd.get_dummies(house['garage_type'], prefix = 'garage_type')\n",
    "house = pd.concat([house, garage_dummies],axis=1)"
   ]
  },
  {
   "cell_type": "code",
   "execution_count": 12,
   "metadata": {},
   "outputs": [
    {
     "name": "stdout",
     "output_type": "stream",
     "text": [
      "<class 'pandas.core.frame.DataFrame'>\n",
      "RangeIndex: 42703 entries, 0 to 42702\n",
      "Data columns (total 18 columns):\n",
      " #   Column                Non-Null Count  Dtype  \n",
      "---  ------                --------------  -----  \n",
      " 0   year_built            42703 non-null  int64  \n",
      " 1   stories               42703 non-null  int64  \n",
      " 2   num_bedrooms          42703 non-null  int64  \n",
      " 3   full_bathrooms        42703 non-null  int64  \n",
      " 4   half_bathrooms        42703 non-null  int64  \n",
      " 5   livable_sqft          42703 non-null  int64  \n",
      " 6   total_sqft            42703 non-null  int64  \n",
      " 7   garage_type           42703 non-null  object \n",
      " 8   garage_sqft           42703 non-null  int64  \n",
      " 9   carport_sqft          42703 non-null  int64  \n",
      " 10  has_fireplace         42703 non-null  bool   \n",
      " 11  has_pool              42703 non-null  bool   \n",
      " 12  has_central_heating   42703 non-null  bool   \n",
      " 13  has_central_cooling   42703 non-null  bool   \n",
      " 14  sale_price            42703 non-null  float64\n",
      " 15  garage_type_attached  42703 non-null  uint8  \n",
      " 16  garage_type_detached  42703 non-null  uint8  \n",
      " 17  garage_type_none      42703 non-null  uint8  \n",
      "dtypes: bool(4), float64(1), int64(9), object(1), uint8(3)\n",
      "memory usage: 3.9+ MB\n"
     ]
    }
   ],
   "source": [
    "house.info()"
   ]
  },
  {
   "cell_type": "code",
   "execution_count": 13,
   "metadata": {},
   "outputs": [],
   "source": [
    "house.drop('garage_type',axis=1, inplace=True)"
   ]
  },
  {
   "cell_type": "code",
   "execution_count": 14,
   "metadata": {},
   "outputs": [
    {
     "name": "stdout",
     "output_type": "stream",
     "text": [
      "<class 'pandas.core.frame.DataFrame'>\n",
      "RangeIndex: 42703 entries, 0 to 42702\n",
      "Data columns (total 17 columns):\n",
      " #   Column                Non-Null Count  Dtype  \n",
      "---  ------                --------------  -----  \n",
      " 0   year_built            42703 non-null  int64  \n",
      " 1   stories               42703 non-null  int64  \n",
      " 2   num_bedrooms          42703 non-null  int64  \n",
      " 3   full_bathrooms        42703 non-null  int64  \n",
      " 4   half_bathrooms        42703 non-null  int64  \n",
      " 5   livable_sqft          42703 non-null  int64  \n",
      " 6   total_sqft            42703 non-null  int64  \n",
      " 7   garage_sqft           42703 non-null  int64  \n",
      " 8   carport_sqft          42703 non-null  int64  \n",
      " 9   has_fireplace         42703 non-null  bool   \n",
      " 10  has_pool              42703 non-null  bool   \n",
      " 11  has_central_heating   42703 non-null  bool   \n",
      " 12  has_central_cooling   42703 non-null  bool   \n",
      " 13  sale_price            42703 non-null  float64\n",
      " 14  garage_type_attached  42703 non-null  uint8  \n",
      " 15  garage_type_detached  42703 non-null  uint8  \n",
      " 16  garage_type_none      42703 non-null  uint8  \n",
      "dtypes: bool(4), float64(1), int64(9), uint8(3)\n",
      "memory usage: 3.5 MB\n"
     ]
    }
   ],
   "source": [
    "house.info()"
   ]
  },
  {
   "cell_type": "code",
   "execution_count": 15,
   "metadata": {},
   "outputs": [
    {
     "data": {
      "text/plain": [
       "Index(['year_built', 'stories', 'num_bedrooms', 'full_bathrooms',\n",
       "       'half_bathrooms', 'livable_sqft', 'total_sqft', 'garage_sqft',\n",
       "       'carport_sqft', 'has_fireplace', 'has_pool', 'has_central_heating',\n",
       "       'has_central_cooling', 'sale_price', 'garage_type_attached',\n",
       "       'garage_type_detached', 'garage_type_none'],\n",
       "      dtype='object')"
      ]
     },
     "execution_count": 15,
     "metadata": {},
     "output_type": "execute_result"
    }
   ],
   "source": [
    "house.columns"
   ]
  },
  {
   "cell_type": "code",
   "execution_count": 16,
   "metadata": {},
   "outputs": [],
   "source": [
    "cols = ['year_built', 'stories', 'num_bedrooms', 'full_bathrooms',\n",
    "       'half_bathrooms', 'livable_sqft', 'total_sqft', 'garage_sqft',\n",
    "       'carport_sqft', 'has_fireplace', 'has_pool', 'has_central_heating',\n",
    "       'has_central_cooling','garage_type_attached',\n",
    "       'garage_type_detached', 'garage_type_none','sale_price']"
   ]
  },
  {
   "cell_type": "code",
   "execution_count": 17,
   "metadata": {},
   "outputs": [
    {
     "data": {
      "text/html": [
       "<div>\n",
       "<style scoped>\n",
       "    .dataframe tbody tr th:only-of-type {\n",
       "        vertical-align: middle;\n",
       "    }\n",
       "\n",
       "    .dataframe tbody tr th {\n",
       "        vertical-align: top;\n",
       "    }\n",
       "\n",
       "    .dataframe thead th {\n",
       "        text-align: right;\n",
       "    }\n",
       "</style>\n",
       "<table border=\"1\" class=\"dataframe\">\n",
       "  <thead>\n",
       "    <tr style=\"text-align: right;\">\n",
       "      <th></th>\n",
       "      <th>year_built</th>\n",
       "      <th>stories</th>\n",
       "      <th>num_bedrooms</th>\n",
       "      <th>full_bathrooms</th>\n",
       "      <th>half_bathrooms</th>\n",
       "      <th>livable_sqft</th>\n",
       "      <th>total_sqft</th>\n",
       "      <th>garage_sqft</th>\n",
       "      <th>carport_sqft</th>\n",
       "      <th>has_fireplace</th>\n",
       "      <th>has_pool</th>\n",
       "      <th>has_central_heating</th>\n",
       "      <th>has_central_cooling</th>\n",
       "      <th>garage_type_attached</th>\n",
       "      <th>garage_type_detached</th>\n",
       "      <th>garage_type_none</th>\n",
       "      <th>sale_price</th>\n",
       "    </tr>\n",
       "  </thead>\n",
       "  <tbody>\n",
       "    <tr>\n",
       "      <th>year_built</th>\n",
       "      <td>1.000000</td>\n",
       "      <td>0.340048</td>\n",
       "      <td>0.354184</td>\n",
       "      <td>0.507460</td>\n",
       "      <td>0.018290</td>\n",
       "      <td>0.501600</td>\n",
       "      <td>0.441766</td>\n",
       "      <td>0.418244</td>\n",
       "      <td>-0.183255</td>\n",
       "      <td>0.133737</td>\n",
       "      <td>-0.023889</td>\n",
       "      <td>0.535366</td>\n",
       "      <td>0.566484</td>\n",
       "      <td>0.506652</td>\n",
       "      <td>-0.323138</td>\n",
       "      <td>-0.360759</td>\n",
       "      <td>0.227948</td>\n",
       "    </tr>\n",
       "    <tr>\n",
       "      <th>stories</th>\n",
       "      <td>0.340048</td>\n",
       "      <td>1.000000</td>\n",
       "      <td>0.411178</td>\n",
       "      <td>0.386661</td>\n",
       "      <td>0.188167</td>\n",
       "      <td>0.402780</td>\n",
       "      <td>0.345969</td>\n",
       "      <td>0.263845</td>\n",
       "      <td>-0.164134</td>\n",
       "      <td>0.177420</td>\n",
       "      <td>-0.027474</td>\n",
       "      <td>0.145494</td>\n",
       "      <td>0.176515</td>\n",
       "      <td>0.268298</td>\n",
       "      <td>-0.125253</td>\n",
       "      <td>-0.223427</td>\n",
       "      <td>0.130693</td>\n",
       "    </tr>\n",
       "    <tr>\n",
       "      <th>num_bedrooms</th>\n",
       "      <td>0.354184</td>\n",
       "      <td>0.411178</td>\n",
       "      <td>1.000000</td>\n",
       "      <td>0.547654</td>\n",
       "      <td>0.090575</td>\n",
       "      <td>0.646047</td>\n",
       "      <td>0.599964</td>\n",
       "      <td>0.479839</td>\n",
       "      <td>-0.224600</td>\n",
       "      <td>0.310697</td>\n",
       "      <td>0.156539</td>\n",
       "      <td>0.179828</td>\n",
       "      <td>0.190266</td>\n",
       "      <td>0.408329</td>\n",
       "      <td>-0.148589</td>\n",
       "      <td>-0.369722</td>\n",
       "      <td>0.316768</td>\n",
       "    </tr>\n",
       "    <tr>\n",
       "      <th>full_bathrooms</th>\n",
       "      <td>0.507460</td>\n",
       "      <td>0.386661</td>\n",
       "      <td>0.547654</td>\n",
       "      <td>1.000000</td>\n",
       "      <td>-0.326024</td>\n",
       "      <td>0.718242</td>\n",
       "      <td>0.683580</td>\n",
       "      <td>0.419770</td>\n",
       "      <td>-0.071632</td>\n",
       "      <td>0.234325</td>\n",
       "      <td>0.169734</td>\n",
       "      <td>0.273856</td>\n",
       "      <td>0.310613</td>\n",
       "      <td>0.286757</td>\n",
       "      <td>-0.152051</td>\n",
       "      <td>-0.225961</td>\n",
       "      <td>0.429947</td>\n",
       "    </tr>\n",
       "    <tr>\n",
       "      <th>half_bathrooms</th>\n",
       "      <td>0.018290</td>\n",
       "      <td>0.188167</td>\n",
       "      <td>0.090575</td>\n",
       "      <td>-0.326024</td>\n",
       "      <td>1.000000</td>\n",
       "      <td>0.103696</td>\n",
       "      <td>0.108050</td>\n",
       "      <td>0.154152</td>\n",
       "      <td>-0.155806</td>\n",
       "      <td>0.110508</td>\n",
       "      <td>0.046666</td>\n",
       "      <td>0.082710</td>\n",
       "      <td>0.060697</td>\n",
       "      <td>0.187890</td>\n",
       "      <td>-0.044166</td>\n",
       "      <td>-0.187218</td>\n",
       "      <td>0.094280</td>\n",
       "    </tr>\n",
       "    <tr>\n",
       "      <th>livable_sqft</th>\n",
       "      <td>0.501600</td>\n",
       "      <td>0.402780</td>\n",
       "      <td>0.646047</td>\n",
       "      <td>0.718242</td>\n",
       "      <td>0.103696</td>\n",
       "      <td>1.000000</td>\n",
       "      <td>0.975450</td>\n",
       "      <td>0.597781</td>\n",
       "      <td>-0.179945</td>\n",
       "      <td>0.321354</td>\n",
       "      <td>0.261967</td>\n",
       "      <td>0.257247</td>\n",
       "      <td>0.294371</td>\n",
       "      <td>0.384588</td>\n",
       "      <td>-0.144589</td>\n",
       "      <td>-0.344949</td>\n",
       "      <td>0.627508</td>\n",
       "    </tr>\n",
       "    <tr>\n",
       "      <th>total_sqft</th>\n",
       "      <td>0.441766</td>\n",
       "      <td>0.345969</td>\n",
       "      <td>0.599964</td>\n",
       "      <td>0.683580</td>\n",
       "      <td>0.108050</td>\n",
       "      <td>0.975450</td>\n",
       "      <td>1.000000</td>\n",
       "      <td>0.586785</td>\n",
       "      <td>-0.180651</td>\n",
       "      <td>0.314783</td>\n",
       "      <td>0.290305</td>\n",
       "      <td>0.228405</td>\n",
       "      <td>0.266848</td>\n",
       "      <td>0.349623</td>\n",
       "      <td>-0.119798</td>\n",
       "      <td>-0.321812</td>\n",
       "      <td>0.660714</td>\n",
       "    </tr>\n",
       "    <tr>\n",
       "      <th>garage_sqft</th>\n",
       "      <td>0.418244</td>\n",
       "      <td>0.263845</td>\n",
       "      <td>0.479839</td>\n",
       "      <td>0.419770</td>\n",
       "      <td>0.154152</td>\n",
       "      <td>0.597781</td>\n",
       "      <td>0.586785</td>\n",
       "      <td>1.000000</td>\n",
       "      <td>-0.406683</td>\n",
       "      <td>0.415696</td>\n",
       "      <td>0.202434</td>\n",
       "      <td>0.240686</td>\n",
       "      <td>0.284199</td>\n",
       "      <td>0.638506</td>\n",
       "      <td>0.011884</td>\n",
       "      <td>-0.750598</td>\n",
       "      <td>0.448928</td>\n",
       "    </tr>\n",
       "    <tr>\n",
       "      <th>carport_sqft</th>\n",
       "      <td>-0.183255</td>\n",
       "      <td>-0.164134</td>\n",
       "      <td>-0.224600</td>\n",
       "      <td>-0.071632</td>\n",
       "      <td>-0.155806</td>\n",
       "      <td>-0.179945</td>\n",
       "      <td>-0.180651</td>\n",
       "      <td>-0.406683</td>\n",
       "      <td>1.000000</td>\n",
       "      <td>-0.268507</td>\n",
       "      <td>-0.078099</td>\n",
       "      <td>-0.008206</td>\n",
       "      <td>-0.057609</td>\n",
       "      <td>-0.467183</td>\n",
       "      <td>0.011040</td>\n",
       "      <td>0.535263</td>\n",
       "      <td>-0.197384</td>\n",
       "    </tr>\n",
       "    <tr>\n",
       "      <th>has_fireplace</th>\n",
       "      <td>0.133737</td>\n",
       "      <td>0.177420</td>\n",
       "      <td>0.310697</td>\n",
       "      <td>0.234325</td>\n",
       "      <td>0.110508</td>\n",
       "      <td>0.321354</td>\n",
       "      <td>0.314783</td>\n",
       "      <td>0.415696</td>\n",
       "      <td>-0.268507</td>\n",
       "      <td>1.000000</td>\n",
       "      <td>0.229999</td>\n",
       "      <td>0.177342</td>\n",
       "      <td>0.190158</td>\n",
       "      <td>0.399971</td>\n",
       "      <td>-0.104696</td>\n",
       "      <td>-0.391001</td>\n",
       "      <td>0.275813</td>\n",
       "    </tr>\n",
       "    <tr>\n",
       "      <th>has_pool</th>\n",
       "      <td>-0.023889</td>\n",
       "      <td>-0.027474</td>\n",
       "      <td>0.156539</td>\n",
       "      <td>0.169734</td>\n",
       "      <td>0.046666</td>\n",
       "      <td>0.261967</td>\n",
       "      <td>0.290305</td>\n",
       "      <td>0.202434</td>\n",
       "      <td>-0.078099</td>\n",
       "      <td>0.229999</td>\n",
       "      <td>1.000000</td>\n",
       "      <td>0.069128</td>\n",
       "      <td>0.070788</td>\n",
       "      <td>0.122333</td>\n",
       "      <td>-0.028815</td>\n",
       "      <td>-0.121854</td>\n",
       "      <td>0.355073</td>\n",
       "    </tr>\n",
       "    <tr>\n",
       "      <th>has_central_heating</th>\n",
       "      <td>0.535366</td>\n",
       "      <td>0.145494</td>\n",
       "      <td>0.179828</td>\n",
       "      <td>0.273856</td>\n",
       "      <td>0.082710</td>\n",
       "      <td>0.257247</td>\n",
       "      <td>0.228405</td>\n",
       "      <td>0.240686</td>\n",
       "      <td>-0.008206</td>\n",
       "      <td>0.177342</td>\n",
       "      <td>0.069128</td>\n",
       "      <td>1.000000</td>\n",
       "      <td>0.764562</td>\n",
       "      <td>0.305678</td>\n",
       "      <td>-0.223033</td>\n",
       "      <td>-0.197831</td>\n",
       "      <td>0.115658</td>\n",
       "    </tr>\n",
       "    <tr>\n",
       "      <th>has_central_cooling</th>\n",
       "      <td>0.566484</td>\n",
       "      <td>0.176515</td>\n",
       "      <td>0.190266</td>\n",
       "      <td>0.310613</td>\n",
       "      <td>0.060697</td>\n",
       "      <td>0.294371</td>\n",
       "      <td>0.266848</td>\n",
       "      <td>0.284199</td>\n",
       "      <td>-0.057609</td>\n",
       "      <td>0.190158</td>\n",
       "      <td>0.070788</td>\n",
       "      <td>0.764562</td>\n",
       "      <td>1.000000</td>\n",
       "      <td>0.348844</td>\n",
       "      <td>-0.221305</td>\n",
       "      <td>-0.249228</td>\n",
       "      <td>0.142121</td>\n",
       "    </tr>\n",
       "    <tr>\n",
       "      <th>garage_type_attached</th>\n",
       "      <td>0.506652</td>\n",
       "      <td>0.268298</td>\n",
       "      <td>0.408329</td>\n",
       "      <td>0.286757</td>\n",
       "      <td>0.187890</td>\n",
       "      <td>0.384588</td>\n",
       "      <td>0.349623</td>\n",
       "      <td>0.638506</td>\n",
       "      <td>-0.467183</td>\n",
       "      <td>0.399971</td>\n",
       "      <td>0.122333</td>\n",
       "      <td>0.305678</td>\n",
       "      <td>0.348844</td>\n",
       "      <td>1.000000</td>\n",
       "      <td>-0.517670</td>\n",
       "      <td>-0.796866</td>\n",
       "      <td>0.259255</td>\n",
       "    </tr>\n",
       "    <tr>\n",
       "      <th>garage_type_detached</th>\n",
       "      <td>-0.323138</td>\n",
       "      <td>-0.125253</td>\n",
       "      <td>-0.148589</td>\n",
       "      <td>-0.152051</td>\n",
       "      <td>-0.044166</td>\n",
       "      <td>-0.144589</td>\n",
       "      <td>-0.119798</td>\n",
       "      <td>0.011884</td>\n",
       "      <td>0.011040</td>\n",
       "      <td>-0.104696</td>\n",
       "      <td>-0.028815</td>\n",
       "      <td>-0.223033</td>\n",
       "      <td>-0.221305</td>\n",
       "      <td>-0.517670</td>\n",
       "      <td>1.000000</td>\n",
       "      <td>-0.104390</td>\n",
       "      <td>-0.056670</td>\n",
       "    </tr>\n",
       "    <tr>\n",
       "      <th>garage_type_none</th>\n",
       "      <td>-0.360759</td>\n",
       "      <td>-0.223427</td>\n",
       "      <td>-0.369722</td>\n",
       "      <td>-0.225961</td>\n",
       "      <td>-0.187218</td>\n",
       "      <td>-0.344949</td>\n",
       "      <td>-0.321812</td>\n",
       "      <td>-0.750598</td>\n",
       "      <td>0.535263</td>\n",
       "      <td>-0.391001</td>\n",
       "      <td>-0.121854</td>\n",
       "      <td>-0.197831</td>\n",
       "      <td>-0.249228</td>\n",
       "      <td>-0.796866</td>\n",
       "      <td>-0.104390</td>\n",
       "      <td>1.000000</td>\n",
       "      <td>-0.261344</td>\n",
       "    </tr>\n",
       "    <tr>\n",
       "      <th>sale_price</th>\n",
       "      <td>0.227948</td>\n",
       "      <td>0.130693</td>\n",
       "      <td>0.316768</td>\n",
       "      <td>0.429947</td>\n",
       "      <td>0.094280</td>\n",
       "      <td>0.627508</td>\n",
       "      <td>0.660714</td>\n",
       "      <td>0.448928</td>\n",
       "      <td>-0.197384</td>\n",
       "      <td>0.275813</td>\n",
       "      <td>0.355073</td>\n",
       "      <td>0.115658</td>\n",
       "      <td>0.142121</td>\n",
       "      <td>0.259255</td>\n",
       "      <td>-0.056670</td>\n",
       "      <td>-0.261344</td>\n",
       "      <td>1.000000</td>\n",
       "    </tr>\n",
       "  </tbody>\n",
       "</table>\n",
       "</div>"
      ],
      "text/plain": [
       "                      year_built   stories  num_bedrooms  full_bathrooms  \\\n",
       "year_built              1.000000  0.340048      0.354184        0.507460   \n",
       "stories                 0.340048  1.000000      0.411178        0.386661   \n",
       "num_bedrooms            0.354184  0.411178      1.000000        0.547654   \n",
       "full_bathrooms          0.507460  0.386661      0.547654        1.000000   \n",
       "half_bathrooms          0.018290  0.188167      0.090575       -0.326024   \n",
       "livable_sqft            0.501600  0.402780      0.646047        0.718242   \n",
       "total_sqft              0.441766  0.345969      0.599964        0.683580   \n",
       "garage_sqft             0.418244  0.263845      0.479839        0.419770   \n",
       "carport_sqft           -0.183255 -0.164134     -0.224600       -0.071632   \n",
       "has_fireplace           0.133737  0.177420      0.310697        0.234325   \n",
       "has_pool               -0.023889 -0.027474      0.156539        0.169734   \n",
       "has_central_heating     0.535366  0.145494      0.179828        0.273856   \n",
       "has_central_cooling     0.566484  0.176515      0.190266        0.310613   \n",
       "garage_type_attached    0.506652  0.268298      0.408329        0.286757   \n",
       "garage_type_detached   -0.323138 -0.125253     -0.148589       -0.152051   \n",
       "garage_type_none       -0.360759 -0.223427     -0.369722       -0.225961   \n",
       "sale_price              0.227948  0.130693      0.316768        0.429947   \n",
       "\n",
       "                      half_bathrooms  livable_sqft  total_sqft  garage_sqft  \\\n",
       "year_built                  0.018290      0.501600    0.441766     0.418244   \n",
       "stories                     0.188167      0.402780    0.345969     0.263845   \n",
       "num_bedrooms                0.090575      0.646047    0.599964     0.479839   \n",
       "full_bathrooms             -0.326024      0.718242    0.683580     0.419770   \n",
       "half_bathrooms              1.000000      0.103696    0.108050     0.154152   \n",
       "livable_sqft                0.103696      1.000000    0.975450     0.597781   \n",
       "total_sqft                  0.108050      0.975450    1.000000     0.586785   \n",
       "garage_sqft                 0.154152      0.597781    0.586785     1.000000   \n",
       "carport_sqft               -0.155806     -0.179945   -0.180651    -0.406683   \n",
       "has_fireplace               0.110508      0.321354    0.314783     0.415696   \n",
       "has_pool                    0.046666      0.261967    0.290305     0.202434   \n",
       "has_central_heating         0.082710      0.257247    0.228405     0.240686   \n",
       "has_central_cooling         0.060697      0.294371    0.266848     0.284199   \n",
       "garage_type_attached        0.187890      0.384588    0.349623     0.638506   \n",
       "garage_type_detached       -0.044166     -0.144589   -0.119798     0.011884   \n",
       "garage_type_none           -0.187218     -0.344949   -0.321812    -0.750598   \n",
       "sale_price                  0.094280      0.627508    0.660714     0.448928   \n",
       "\n",
       "                      carport_sqft  has_fireplace  has_pool  \\\n",
       "year_built               -0.183255       0.133737 -0.023889   \n",
       "stories                  -0.164134       0.177420 -0.027474   \n",
       "num_bedrooms             -0.224600       0.310697  0.156539   \n",
       "full_bathrooms           -0.071632       0.234325  0.169734   \n",
       "half_bathrooms           -0.155806       0.110508  0.046666   \n",
       "livable_sqft             -0.179945       0.321354  0.261967   \n",
       "total_sqft               -0.180651       0.314783  0.290305   \n",
       "garage_sqft              -0.406683       0.415696  0.202434   \n",
       "carport_sqft              1.000000      -0.268507 -0.078099   \n",
       "has_fireplace            -0.268507       1.000000  0.229999   \n",
       "has_pool                 -0.078099       0.229999  1.000000   \n",
       "has_central_heating      -0.008206       0.177342  0.069128   \n",
       "has_central_cooling      -0.057609       0.190158  0.070788   \n",
       "garage_type_attached     -0.467183       0.399971  0.122333   \n",
       "garage_type_detached      0.011040      -0.104696 -0.028815   \n",
       "garage_type_none          0.535263      -0.391001 -0.121854   \n",
       "sale_price               -0.197384       0.275813  0.355073   \n",
       "\n",
       "                      has_central_heating  has_central_cooling  \\\n",
       "year_built                       0.535366             0.566484   \n",
       "stories                          0.145494             0.176515   \n",
       "num_bedrooms                     0.179828             0.190266   \n",
       "full_bathrooms                   0.273856             0.310613   \n",
       "half_bathrooms                   0.082710             0.060697   \n",
       "livable_sqft                     0.257247             0.294371   \n",
       "total_sqft                       0.228405             0.266848   \n",
       "garage_sqft                      0.240686             0.284199   \n",
       "carport_sqft                    -0.008206            -0.057609   \n",
       "has_fireplace                    0.177342             0.190158   \n",
       "has_pool                         0.069128             0.070788   \n",
       "has_central_heating              1.000000             0.764562   \n",
       "has_central_cooling              0.764562             1.000000   \n",
       "garage_type_attached             0.305678             0.348844   \n",
       "garage_type_detached            -0.223033            -0.221305   \n",
       "garage_type_none                -0.197831            -0.249228   \n",
       "sale_price                       0.115658             0.142121   \n",
       "\n",
       "                      garage_type_attached  garage_type_detached  \\\n",
       "year_built                        0.506652             -0.323138   \n",
       "stories                           0.268298             -0.125253   \n",
       "num_bedrooms                      0.408329             -0.148589   \n",
       "full_bathrooms                    0.286757             -0.152051   \n",
       "half_bathrooms                    0.187890             -0.044166   \n",
       "livable_sqft                      0.384588             -0.144589   \n",
       "total_sqft                        0.349623             -0.119798   \n",
       "garage_sqft                       0.638506              0.011884   \n",
       "carport_sqft                     -0.467183              0.011040   \n",
       "has_fireplace                     0.399971             -0.104696   \n",
       "has_pool                          0.122333             -0.028815   \n",
       "has_central_heating               0.305678             -0.223033   \n",
       "has_central_cooling               0.348844             -0.221305   \n",
       "garage_type_attached              1.000000             -0.517670   \n",
       "garage_type_detached             -0.517670              1.000000   \n",
       "garage_type_none                 -0.796866             -0.104390   \n",
       "sale_price                        0.259255             -0.056670   \n",
       "\n",
       "                      garage_type_none  sale_price  \n",
       "year_built                   -0.360759    0.227948  \n",
       "stories                      -0.223427    0.130693  \n",
       "num_bedrooms                 -0.369722    0.316768  \n",
       "full_bathrooms               -0.225961    0.429947  \n",
       "half_bathrooms               -0.187218    0.094280  \n",
       "livable_sqft                 -0.344949    0.627508  \n",
       "total_sqft                   -0.321812    0.660714  \n",
       "garage_sqft                  -0.750598    0.448928  \n",
       "carport_sqft                  0.535263   -0.197384  \n",
       "has_fireplace                -0.391001    0.275813  \n",
       "has_pool                     -0.121854    0.355073  \n",
       "has_central_heating          -0.197831    0.115658  \n",
       "has_central_cooling          -0.249228    0.142121  \n",
       "garage_type_attached         -0.796866    0.259255  \n",
       "garage_type_detached         -0.104390   -0.056670  \n",
       "garage_type_none              1.000000   -0.261344  \n",
       "sale_price                   -0.261344    1.000000  "
      ]
     },
     "execution_count": 17,
     "metadata": {},
     "output_type": "execute_result"
    }
   ],
   "source": [
    "house[cols].corr()"
   ]
  },
  {
   "cell_type": "markdown",
   "metadata": {},
   "source": [
    "# Single linear Regression"
   ]
  },
  {
   "cell_type": "code",
   "execution_count": 19,
   "metadata": {},
   "outputs": [],
   "source": [
    "train = house[0:int((house.shape[0]*(70/100)))]\n",
    "test = house[int(house.shape[0]*(70/100)):]"
   ]
  },
  {
   "cell_type": "code",
   "execution_count": 28,
   "metadata": {},
   "outputs": [],
   "source": [
    "columns = ['year_built', 'stories', 'num_bedrooms', 'full_bathrooms',\n",
    "       'half_bathrooms', 'livable_sqft', 'total_sqft', 'garage_sqft',\n",
    "       'carport_sqft', 'has_fireplace', 'has_pool', 'has_central_heating',\n",
    "       'has_central_cooling','garage_type_attached',\n",
    "       'garage_type_detached', 'garage_type_none']"
   ]
  },
  {
   "cell_type": "code",
   "execution_count": 26,
   "metadata": {},
   "outputs": [],
   "source": [
    "from sklearn.linear_model import LinearRegression\n",
    "from sklearn.metrics import mean_squared_error\n",
    "lr = LinearRegression()\n",
    "\n",
    "# Training the model\n",
    "lr.fit(train[['total_sqft']], train['sale_price'])\n",
    "prediction = lr.predict(train[['total_sqft']])\n",
    "train_mse = mean_squared_error(prediction, train['sale_price'])\n",
    "import numpy as np\n",
    "train_rmse = np.sqrt(train_mse)\n",
    "\n",
    "# Using the model on the test data\n",
    "lr.fit(test[['total_sqft']], test['sale_price'])\n",
    "test_prediction = lr.predict(test[['total_sqft']])\n",
    "test_mse = mean_squared_error(test_prediction, test['sale_price'])\n",
    "\n",
    "test_rmse = np.sqrt(test_mse)\n",
    "\n"
   ]
  },
  {
   "cell_type": "code",
   "execution_count": 27,
   "metadata": {
    "scrolled": true
   },
   "outputs": [
    {
     "data": {
      "text/plain": [
       "211601.01156976368"
      ]
     },
     "execution_count": 27,
     "metadata": {},
     "output_type": "execute_result"
    }
   ],
   "source": [
    "test_rmse"
   ]
  },
  {
   "cell_type": "code",
   "execution_count": 25,
   "metadata": {},
   "outputs": [
    {
     "data": {
      "text/plain": [
       "62439514107.69258"
      ]
     },
     "execution_count": 25,
     "metadata": {},
     "output_type": "execute_result"
    }
   ],
   "source": [
    "train_mse"
   ]
  },
  {
   "cell_type": "code",
   "execution_count": 21,
   "metadata": {},
   "outputs": [
    {
     "data": {
      "text/plain": [
       "249878.99893286868"
      ]
     },
     "execution_count": 21,
     "metadata": {},
     "output_type": "execute_result"
    }
   ],
   "source": [
    "train_rmse"
   ]
  },
  {
   "cell_type": "code",
   "execution_count": null,
   "metadata": {},
   "outputs": [],
   "source": [
    "house.shape[0]*(70/100)"
   ]
  },
  {
   "cell_type": "code",
   "execution_count": null,
   "metadata": {},
   "outputs": [],
   "source": [
    "house.shape[0]"
   ]
  },
  {
   "cell_type": "code",
   "execution_count": null,
   "metadata": {},
   "outputs": [],
   "source": []
  },
  {
   "cell_type": "code",
   "execution_count": 29,
   "metadata": {},
   "outputs": [],
   "source": [
    "from sklearn.linear_model import LinearRegression\n",
    "from sklearn.metrics import mean_squared_error\n",
    "lr = LinearRegression()\n",
    "\n",
    "# Training the model\n",
    "lr.fit(train[columns], train['sale_price'])\n",
    "prediction = lr.predict(train[columns])\n",
    "train_mse = mean_squared_error(prediction, train['sale_price'])\n",
    "import numpy as np\n",
    "train_rmse = np.sqrt(train_mse)\n",
    "\n",
    "# Using the model on the test data\n",
    "lr.fit(test[columns], test['sale_price'])\n",
    "test_prediction = lr.predict(test[columns])\n",
    "test_mse = mean_squared_error(test_prediction, test['sale_price'])\n",
    "\n",
    "test_rmse = np.sqrt(test_mse)\n",
    "\n"
   ]
  },
  {
   "cell_type": "code",
   "execution_count": 30,
   "metadata": {},
   "outputs": [
    {
     "data": {
      "text/plain": [
       "195789.18908645192"
      ]
     },
     "execution_count": 30,
     "metadata": {},
     "output_type": "execute_result"
    }
   ],
   "source": [
    "test_rmse"
   ]
  },
  {
   "cell_type": "code",
   "execution_count": 31,
   "metadata": {},
   "outputs": [
    {
     "data": {
      "text/plain": [
       "1539231.3011527415"
      ]
     },
     "execution_count": 31,
     "metadata": {},
     "output_type": "execute_result"
    }
   ],
   "source": [
    "lr.intercept_"
   ]
  },
  {
   "cell_type": "code",
   "execution_count": 32,
   "metadata": {},
   "outputs": [
    {
     "data": {
      "text/plain": [
       "array([-7.56549816e+02, -5.79528757e+04, -4.06840537e+04,  3.90841503e+04,\n",
       "        3.84344289e+04, -2.58854770e+01,  2.41119399e+02,  1.07378414e+02,\n",
       "       -1.40931971e+02,  3.26286499e+04,  1.15722170e+05, -3.49239388e+04,\n",
       "       -1.74444845e+04,  2.83552610e+03, -7.32560406e+03,  4.49007795e+03])"
      ]
     },
     "execution_count": 32,
     "metadata": {},
     "output_type": "execute_result"
    }
   ],
   "source": [
    "lr.coef_"
   ]
  },
  {
   "cell_type": "code",
   "execution_count": null,
   "metadata": {},
   "outputs": [],
   "source": []
  }
 ],
 "metadata": {
  "kernelspec": {
   "display_name": "Python 3",
   "language": "python",
   "name": "python3"
  },
  "language_info": {
   "codemirror_mode": {
    "name": "ipython",
    "version": 3
   },
   "file_extension": ".py",
   "mimetype": "text/x-python",
   "name": "python",
   "nbconvert_exporter": "python",
   "pygments_lexer": "ipython3",
   "version": "3.8.3"
  }
 },
 "nbformat": 4,
 "nbformat_minor": 4
}
